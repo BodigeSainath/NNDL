{
 "cells": [
  {
   "cell_type": "markdown",
   "metadata": {
    "id": "V4aQJHht-Z-Z"
   },
   "source": [
    "                                                                          ICP-2"
   ]
  },
  {
   "cell_type": "markdown",
   "metadata": {
    "id": "h6ZJjVS2-ZW8"
   },
   "source": [
    "Q1"
   ]
  },
  {
   "cell_type": "code",
   "execution_count": 8,
   "metadata": {
    "colab": {
     "base_uri": "https://localhost:8080/"
    },
    "id": "szA77biQ_egB",
    "outputId": "749174be-d57f-4529-d2fd-af1e3769b7de"
   },
   "outputs": [
    {
     "name": "stdout",
     "output_type": "stream",
     "text": [
      "Employee: Sainath, Family: Bodige Department: IT Development, Salary: 100000\n",
      "Employee: Suman, Family: D Department: Marketing, Salary: 95000\n",
      "Fulltime Employee: Rohit, Family: Reddy Department: Human Resource, Salary: 70000\n",
      "Fulltime Employee: Priya, Family: K Department: Finance, Salary: 80000\n",
      "Average Salary of Employees: 86250.0\n",
      "Number of Employees: 4\n",
      "Average Salary of Fulltime Employees: 75000.0\n",
      "Number of Fulltime Employees: 2\n"
     ]
    }
   ],
   "source": [
    "class Employee:\n",
    "    employee_count = 0\n",
    "    total_salary = 0\n",
    "\n",
    "    def __init__(self, name, family, salary, department):\n",
    "        self.name = name\n",
    "        self.family = family\n",
    "        self.salary = salary\n",
    "        self.department = department\n",
    "        Employee.employee_count += 1\n",
    "        Employee.total_salary += salary\n",
    "\n",
    "    @classmethod\n",
    "    def average_salary(cls):\n",
    "        if cls.employee_count > 0:\n",
    "            return cls.total_salary / cls.employee_count\n",
    "        return 0\n",
    "\n",
    "    def display_employee(self):\n",
    "        return f\"Employee: {self.name}, Family: {self.family} Department: {self.department}, Salary: {self.salary}\"\n",
    "\n",
    "class FulltimeEmployee(Employee):\n",
    "    ft_employee_count = 0\n",
    "    ft_total_salary = 0\n",
    "\n",
    "    def __init__(self, name, family, salary, department):\n",
    "        super().__init__(name, family, salary, department)\n",
    "        FulltimeEmployee.ft_employee_count += 1\n",
    "        FulltimeEmployee.ft_total_salary += salary\n",
    "\n",
    "    @classmethod\n",
    "    def average_salary(cls):\n",
    "        if cls.ft_employee_count > 0:\n",
    "            return cls.ft_total_salary / cls.ft_employee_count\n",
    "        return 0\n",
    "\n",
    "    def display_employee(self):\n",
    "        return f\"Fulltime Employee: {self.name}, Family: {self.family} Department: {self.department}, Salary: {self.salary}\"\n",
    "\n",
    "# Creating instances\n",
    "emp1 = Employee(\"Sainath\", \"Bodige\", 100000, \"IT Development\")\n",
    "emp2 = Employee(\"Suman\", \"D\", 95000, \"Marketing\")\n",
    "ft_emp1 = FulltimeEmployee(\"Rohit\", \"Reddy\", 70000, \"Human Resource\")\n",
    "ft_emp2 = FulltimeEmployee(\"Priya\", \"K\", 80000, \"Finance\")\n",
    "\n",
    "# Displaying information\n",
    "print(emp1.display_employee())\n",
    "print(emp2.display_employee())\n",
    "print(ft_emp1.display_employee())\n",
    "print(ft_emp2.display_employee())\n",
    "\n",
    "# Displaying average salaries and counts\n",
    "print(f\"Average Salary of Employees: {Employee.average_salary()}\")\n",
    "print(f\"Number of Employees: {Employee.employee_count}\")\n",
    "print(f\"Average Salary of Fulltime Employees: {FulltimeEmployee.average_salary()}\")\n",
    "print(f\"Number of Fulltime Employees: {FulltimeEmployee.ft_employee_count}\")\n"
   ]
  },
  {
   "cell_type": "markdown",
   "metadata": {
    "id": "DQH0DfrZ-Wco"
   },
   "source": [
    "Q2"
   ]
  },
  {
   "cell_type": "code",
   "execution_count": 7,
   "metadata": {
    "colab": {
     "base_uri": "https://localhost:8080/"
    },
    "id": "VyXBWbsz_pUY",
    "outputId": "c9f3f338-78d9-4191-b8fb-9031e70ee055"
   },
   "outputs": [
    {
     "name": "stdout",
     "output_type": "stream",
     "text": [
      "[[ 1.24267852  4.63433975 10.696671   10.05391008 16.22260334]\n",
      " [15.34202854 16.55522505  9.00945359 15.47759427 10.18718611]\n",
      " [ 4.32081335 14.35795837 15.26860031  3.95295235  5.21960454]\n",
      " [ 5.70878765  8.70033882  5.42154667  4.55940918  2.0143742 ]]\n"
     ]
    },
    {
     "data": {
      "text/plain": [
       "array([[ 1.24267852,  4.63433975, 10.696671  , 10.05391008,  0.        ],\n",
       "       [15.34202854,  0.        ,  9.00945359, 15.47759427, 10.18718611],\n",
       "       [ 4.32081335, 14.35795837,  0.        ,  3.95295235,  5.21960454],\n",
       "       [ 5.70878765,  0.        ,  5.42154667,  4.55940918,  2.0143742 ]])"
      ]
     },
     "execution_count": 7,
     "metadata": {},
     "output_type": "execute_result"
    }
   ],
   "source": [
    "import numpy as np\n",
    "\n",
    "# Create random vector of size 20 with floats in the range 1-20\n",
    "random_vector = np.random.uniform(1, 20, 20)\n",
    "\n",
    "# Reshape the array to 4 by 5\n",
    "reshaped_array = random_vector.reshape(4, 5)\n",
    "#print(reshaped_array)\n",
    "# Replace the max in each row by 0\n",
    "reshaped_array[reshaped_array == reshaped_array.max(axis=1, keepdims=True)] = 0\n",
    "\n",
    "reshaped_array\n"
   ]
  },
  {
   "cell_type": "code",
   "execution_count": null,
   "metadata": {},
   "outputs": [],
   "source": []
  }
 ],
 "metadata": {
  "colab": {
   "provenance": []
  },
  "kernelspec": {
   "display_name": "Python 3 (ipykernel)",
   "language": "python",
   "name": "python3"
  },
  "language_info": {
   "codemirror_mode": {
    "name": "ipython",
    "version": 3
   },
   "file_extension": ".py",
   "mimetype": "text/x-python",
   "name": "python",
   "nbconvert_exporter": "python",
   "pygments_lexer": "ipython3",
   "version": "3.11.4"
  }
 },
 "nbformat": 4,
 "nbformat_minor": 4
}
